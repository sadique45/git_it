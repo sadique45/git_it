{
 "cells": [
  {
   "cell_type": "code",
   "execution_count": 2,
   "id": "9b6e016a",
   "metadata": {},
   "outputs": [
    {
     "name": "stdout",
     "output_type": "stream",
     "text": [
      "10 10\n"
     ]
    }
   ],
   "source": [
    "#type conversion\n",
    "a=\"10\"\n",
    "b=int(a)\n",
    "print(b)"
   ]
  },
  {
   "cell_type": "code",
   "execution_count": 5,
   "id": "8a2b8360",
   "metadata": {},
   "outputs": [
    {
     "name": "stdout",
     "output_type": "stream",
     "text": [
      "5.4\n"
     ]
    }
   ],
   "source": [
    "c=str(5.4)\n",
    "print(c)"
   ]
  },
  {
   "cell_type": "code",
   "execution_count": 6,
   "id": "550916b1",
   "metadata": {},
   "outputs": [
    {
     "name": "stdout",
     "output_type": "stream",
     "text": [
      "False\n"
     ]
    }
   ],
   "source": [
    "d=bool(0)\n",
    "print(d)"
   ]
  },
  {
   "cell_type": "code",
   "execution_count": 7,
   "id": "fb9cd97c",
   "metadata": {},
   "outputs": [
    {
     "name": "stdout",
     "output_type": "stream",
     "text": [
      "b is greater than a\n"
     ]
    }
   ],
   "source": [
    "#greeater of two numbers\n",
    "a=10\n",
    "b=30\n",
    "\n",
    "if a>b:\n",
    "    print(\"a is greater than b\")\n",
    "else:\n",
    "    print(\"b is greater than a\")"
   ]
  },
  {
   "cell_type": "code",
   "execution_count": 8,
   "id": "7503da1d",
   "metadata": {},
   "outputs": [
    {
     "name": "stdout",
     "output_type": "stream",
     "text": [
      "c is greater than a,b\n"
     ]
    }
   ],
   "source": [
    "#greeater of three numbers\n",
    "a=10\n",
    "b=30\n",
    "c=40\n",
    "if a>b and a>c:\n",
    "    print(\"a is greater than b,c\")\n",
    "elif b>a and b>c:\n",
    "    print(\"b is greater than a,c\")\n",
    "else:\n",
    "    print(\"c is greater than a,b\")"
   ]
  },
  {
   "cell_type": "code",
   "execution_count": 10,
   "id": "40363bcc",
   "metadata": {},
   "outputs": [
    {
     "name": "stdout",
     "output_type": "stream",
     "text": [
      "a is odd\n"
     ]
    }
   ],
   "source": [
    "#check number is even or odd\n",
    "a=13\n",
    "\n",
    "if a%2==0:\n",
    "    print(\"a is even\")\n",
    "else:\n",
    "    print(\"a is odd\")"
   ]
  },
  {
   "cell_type": "code",
   "execution_count": 11,
   "id": "973c8341",
   "metadata": {},
   "outputs": [
    {
     "name": "stdout",
     "output_type": "stream",
     "text": [
      "enter a number67\n",
      "67\n"
     ]
    }
   ],
   "source": [
    "#user input\n",
    "\n",
    "a=int(input(\"enter a number\"))\n",
    "\n",
    "print(a)"
   ]
  },
  {
   "cell_type": "code",
   "execution_count": 13,
   "id": "b3e11417",
   "metadata": {},
   "outputs": [
    {
     "name": "stdout",
     "output_type": "stream",
     "text": [
      "enter your name: sadique\n",
      "sadique\n"
     ]
    }
   ],
   "source": [
    "b=input(\"enter your name: \")\n",
    "print(b)"
   ]
  },
  {
   "cell_type": "code",
   "execution_count": 14,
   "id": "2b28e8e7",
   "metadata": {},
   "outputs": [
    {
     "name": "stdout",
     "output_type": "stream",
     "text": [
      "enter a number89\n",
      "a is odd\n"
     ]
    }
   ],
   "source": [
    "a=int(input(\"enter a number\"))\n",
    "if a%2==0:\n",
    "    print(\"a is even\")\n",
    "else:\n",
    "    print(\"a is odd\")"
   ]
  },
  {
   "cell_type": "code",
   "execution_count": 15,
   "id": "b233ecbd",
   "metadata": {},
   "outputs": [
    {
     "name": "stdout",
     "output_type": "stream",
     "text": [
      "adult\n"
     ]
    }
   ],
   "source": [
    "a=68\n",
    "if a>18:\n",
    "    print(\"adult\")\n",
    "elif a==18:\n",
    "    print(\"teenager\")\n",
    "else:\n",
    "    print(\"minor\")"
   ]
  },
  {
   "cell_type": "code",
   "execution_count": 19,
   "id": "23d53ec3",
   "metadata": {},
   "outputs": [
    {
     "name": "stdout",
     "output_type": "stream",
     "text": [
      "enter a year2000\n",
      "leap year\n"
     ]
    }
   ],
   "source": [
    "#to check leap year\n",
    "year=int(input(\"enter a year\"))\n",
    "\n",
    "if (year%4==0 and year%100!=0) or (year%400==0):\n",
    "    print(\"leap year\")\n",
    "else:\n",
    "    print(\"not a leap year\")"
   ]
  },
  {
   "cell_type": "code",
   "execution_count": null,
   "id": "17733077",
   "metadata": {},
   "outputs": [],
   "source": []
  }
 ],
 "metadata": {
  "kernelspec": {
   "display_name": "Python 3 (ipykernel)",
   "language": "python",
   "name": "python3"
  },
  "language_info": {
   "codemirror_mode": {
    "name": "ipython",
    "version": 3
   },
   "file_extension": ".py",
   "mimetype": "text/x-python",
   "name": "python",
   "nbconvert_exporter": "python",
   "pygments_lexer": "ipython3",
   "version": "3.10.9"
  }
 },
 "nbformat": 4,
 "nbformat_minor": 5
}
